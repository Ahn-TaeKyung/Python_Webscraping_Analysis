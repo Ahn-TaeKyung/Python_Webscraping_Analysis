{
 "cells": [
  {
   "cell_type": "code",
   "execution_count": 24,
   "id": "2926d63a",
   "metadata": {},
   "outputs": [],
   "source": [
    "import requests\n",
    "import bs4\n",
    "\n",
    "from bs4 import BeautifulSoup"
   ]
  },
  {
   "cell_type": "code",
   "execution_count": 25,
   "id": "d2a81ebf",
   "metadata": {},
   "outputs": [
    {
     "name": "stdout",
     "output_type": "stream",
     "text": [
      "https://news.daum.net/economy\n",
      "<class 'requests.models.Response'>\n",
      "200\n",
      "<class 'bs4.element.ResultSet'> 80\n",
      "https://v.daum.net/v/20250408171205288\n",
      "이러다 진짜 전쟁...트럼프 '104% 관세'에 끝까지 싸운다는 中 [데일리 아시아]\n",
      "https://v.daum.net/v/20250408161553109\n",
      "트럼프발 주가폭락에 동아 \"경제적 핵전쟁\" 조선 \"금융위기 후 최악\"\n",
      "https://v.daum.net/v/20250408160526681\n",
      "공황과 격변의 판도라 박스가 열리다\n",
      "https://v.daum.net/v/20250408154329660\n",
      "해외서 발 뺀 이중항체, 韓 기업들이 이끈다\n",
      "https://v.daum.net/v/20250408153003030\n",
      "탄핵 끝났는데 韓경제 ‘봄’은 언제 오나…박근혜 때와 다른 이유\n",
      "https://v.daum.net/v/20250408152923007\n",
      "경상수지 흑자행진에도… 한은 “美 관세에 불확실성 확대”\n",
      "https://v.daum.net/v/20250408144527816\n",
      "국제유가 하락에 흔들리는 정유업계…실적 먹구름 짙어진다\n",
      "https://v.daum.net/v/20250408140753767\n",
      "조양호 한진그룹 선대회장 6주기… ‘45년 항공산업’ 리더십 재조명\n",
      "https://v.daum.net/v/20250408140302580\n",
      "미국 최대 은행이 \"여성 경영인이 경제 원동력\"이라 말한 이유\n",
      "https://v.daum.net/v/20250408171507405\n",
      "작년 나라살림 적자 100조원대…코로나19 기간 제외하면 최대\n",
      "https://v.daum.net/v/20250408171205288\n",
      "이러다 진짜 전쟁...트럼프 '104% 관세'에 끝까지 싸운다는 中 [데일리 아시아]\n",
      "https://v.daum.net/v/20250408171204285\n",
      "[단독] SK 최대 '빅딜'된 SK실트론…숨가빴던 그룹 리밸런싱도 마무리 수순\n",
      "https://v.daum.net/v/20250408170902170\n",
      "가덕도신공항 접근도로 건설 공사 3차 입찰도 무산\n",
      "https://v.daum.net/v/20250408172400642\n",
      "\"멤버십 합치자\" 이재현·정용진 뜨거운 혈맹\n",
      "https://v.daum.net/v/20250408172316624\n",
      "[비즈S+] K-조선, 환율 고공행진에 웃다… 관세 전쟁에도 '무풍지대'\n",
      "https://v.daum.net/v/20250408172052566\n",
      "“일회용기 없는 그 날까지”…청주에 문 연 전국 첫 다회용기 공공세척센터에 가보니\n",
      "https://v.daum.net/v/20250408171851515\n",
      "삼성, 갤럭시로 날았다...변수는 '관세·메모리'\n",
      "https://v.daum.net/v/20250408170657118\n",
      "'분식회계 의혹' SOOP, 모건스탠리 또 지분 매도\n",
      "https://v.daum.net/v/20250408170301977\n",
      "“메가 트렌드에 투자하는 인프라… 불확실성의 시대에도 매력적”\n",
      "https://v.daum.net/v/20250408170003847\n",
      "관세 충격에 무너진 테슬라…ELS 원금손실 우려 커져\n",
      "https://v.daum.net/v/20250408165256586\n",
      "코스피 단독 구원투수된 '개미'…\"경기 모멘텀 더 확인돼야\"\n",
      "https://v.daum.net/v/20250408170554076\n",
      "[단독]공적자금 회수율 50% 넘긴 서울보증, 경영자율성 커진다\n",
      "https://v.daum.net/v/20250408170215957\n",
      "`관세전쟁`에 금리인하 서두르는 유럽…한국은행 결정은?\n",
      "https://v.daum.net/v/20250408170120923\n",
      "물가상승률 2%인데 예금금리 1%대… 실질금리 ‘마이너스’ 시대\n",
      "https://v.daum.net/v/20250408165239579\n",
      "이 불황에 매출 25%나 늘려…한우집 성공 비결은 인건비 ‘다이어트’ [찐이야!짠테크]\n",
      "https://v.daum.net/v/20250408171048240\n",
      "'지방·중견 건설업체' 체감 경기 더 나빠졌다\n",
      "https://v.daum.net/v/20250408170601080\n",
      "토허구역 연장에도 … 여의도 재건축 '훨훨'\n",
      "https://v.daum.net/v/20250408170403025\n",
      "\"1억대 '풀옵션' 무상 제공\"…아파트 '진풍경' 벌어진 이유\n",
      "https://v.daum.net/v/20250408170304981\n",
      "주택공급 가로막는 지자체 '인허가 갑질' 없앤다\n",
      "https://v.daum.net/v/20250408141206954\n",
      "비트코인, 관세유예 가짜뉴스에도 8만달러대 회복[매일코인]\n",
      "https://v.daum.net/v/20250408094246273\n",
      "비트코인, '블랙먼데이' 하루 만에 소폭 반등…1억1800만원대\n",
      "https://v.daum.net/v/20250407195548903\n",
      "[Q&AI] 美 관세 쇼크에 비트코인 급락… AI에게 물어보니\n",
      "https://v.daum.net/v/20250407184350775\n",
      "가상자산도 '패닉셀'… 비트코인, 7만5000달러선 무너졌다\n",
      "https://v.daum.net/v/20250408121010759\n",
      "\"아무도 대신 챙겨주지 않습니다\" 퇴직금으론 부족한 은퇴 후 삶 \"개인 연금 중요\"\n",
      "https://v.daum.net/v/20250408111401177\n",
      "연금개혁은 세대 갈라치기? “재정 투입해 소득보장성 강화해야”\n",
      "https://v.daum.net/v/20250408110625822\n",
      "\"기금형 퇴직연금, 국민연금과 달라…사각지대 근로자 품어야\"[이슈인터뷰]\n",
      "https://v.daum.net/v/20250408070101889\n",
      "국회 연금특위 본격 가동···\"자동조정장치 핵심의제로\"[Pick코노미]\n",
      "https://v.daum.net/v/20250408172002541\n",
      "취업 준비 안하는 청년·단기근로자·장기실업자 증가…“노동력 유휴화 심각”\n",
      "https://v.daum.net/v/20250408162610501\n",
      "김문수 장관 퇴임···7가지 취임 약속 중 3가지 못 지켰다\n",
      "https://v.daum.net/v/20250408152831975\n",
      "서울시, 청년취업사관학교 3곳 ‘AI특화캠퍼스’로 재편\n",
      "https://v.daum.net/v/20250408120454629\n",
      "정년 연장에 '청년 고통'…취준생 일자리 11만개 사라졌다\n",
      "https://v.daum.net/v/20250408172302617\n",
      "백지연 \"자수성가 부자들, 절대 안 사는 거 있다\"…뭐길래?\n",
      "https://v.daum.net/v/20250408163914001\n",
      "면세점서 진열 족족 완판…‘스나이델 뷰티’가 뭐길래\n",
      "https://v.daum.net/v/20250408162021268\n",
      "'무알코올 회식' 1년..OO시장 주류업계 '황금알' 됐다\n",
      "https://v.daum.net/v/20250408160914852\n",
      "네스프레소, 카페인 쏙 빼고 원두 본연의 풍미 그대로 살렸다…'스위트 바닐라 디카페나토'\n",
      "https://v.daum.net/v/20250408162000246\n",
      "다넥트, 2025년 G-스타트업 초기창업 지원사업 선정\n",
      "https://v.daum.net/v/20250408100902613\n",
      "“같이 일할 스타트업 어디 없소?”...KB 벤처 영토 확대\n",
      "https://v.daum.net/v/20250408095016649\n",
      "페이워크, 금융 빅데이터 스타트업 지원사업 2년 연속 선정\n",
      "https://v.daum.net/v/20250408060046024\n",
      "‘납품 무기한 연기’...관세폭탄에 中企 고사위기 “대기업보다 타격 더 크다”\n",
      "https://v.daum.net/v/20250408171512409\n",
      "FT \"글로벌기업 2800兆 대미 투자약속 위태하다\"\n",
      "https://v.daum.net/v/20250408171215300\n",
      "아시아 증시 희비 쌍곡선…닛케이 6%↑, 대만·동남아 하락 \n",
      "https://v.daum.net/v/20250408164258158\n",
      "“월급 1400만원 줍니다” 제2의 량원펑 찾는 중국\n",
      "https://v.daum.net/v/20250408162714545\n",
      "中, 쉬인 생산기지 해외 이전에 제동…\"일자리 감소 우려\"\n",
      "https://v.daum.net/v/20250408164758374\n",
      "상품성 높인 토레스 EVX, 부분변경 'ALPHA' 최대 4812만원\n",
      "https://v.daum.net/v/20250408162133323\n",
      "5분 충전에 700km 7년만에 환골탈태 넥쏘 수소차 대중화 앞당긴다\n",
      "https://v.daum.net/v/20250408162123318\n",
      "레이싱까지 도전 … 이것이 제네시스\n",
      "https://v.daum.net/v/20250408162117310\n",
      "럭셔리 명가는 영원하다 … 수입차 빅2 대격돌\n",
      "https://v.daum.net/v/20250408172618712\n",
      "여성 불러 술자리 면접 논란...백종원 더본코리아 최저가로 밀려\n",
      "https://v.daum.net/v/20250408172551704\n",
      "블랙야크강태선장학재단,  스포츠클라이밍 특기장학생 등 장학금 지원\n",
      "https://v.daum.net/v/20250408172504680\n",
      "송미령 장관 “상호관세 파고, 바우처·금융 확대해 민관 공동 대응”\n",
      "https://v.daum.net/v/20250408172455673\n",
      "3월 건설 경기실사지수 소폭 상승…\"부정적 전망은 여전\"\n",
      "https://v.daum.net/v/20250408172406649\n",
      "식품업까지 법정관리 번지나\n",
      "https://v.daum.net/v/20250408172404648\n",
      "BBQ, 위메프 인수의향서 제출…\"간편식 사업 다각화 포석?\"\n",
      "https://v.daum.net/v/20250408172402645\n",
      "정의선 현대차그룹 회장, GM CEO와 미국 매체 포럼 기조연설\n",
      "https://v.daum.net/v/20250408172316624\n",
      "[비즈S+] K-조선, 환율 고공행진에 웃다… 관세 전쟁에도 '무풍지대'\n",
      "https://v.daum.net/v/20250408172302617\n",
      "백지연 \"자수성가 부자들, 절대 안 사는 거 있다\"…뭐길래?\n",
      "https://v.daum.net/v/20250408172204598\n",
      "LS·대한전선 5년8개월 특허소송 마침표···\"상고 포기\"\n",
      "https://v.daum.net/v/20250408172512686\n",
      "박지원 \"정당활동했다면 재판관 무자격\"…이완규 \"당적가진 적 없어\"(종합)\n",
      "https://v.daum.net/v/20250408170705128\n",
      "김문수, 대선 출마 선언…\"대한민국 다시 일으켜 세우겠다\" [종합]\n",
      "https://v.daum.net/v/20250408164858411\n",
      "용산 대통령실 애물단지로…“불통 상징에 주술 의혹 꺼림칙”\n",
      "https://v.daum.net/v/20250408164047063\n",
      "국민의힘 대선출마 러시…2∼3단계 컷오프 뒤 2명 최종경선 검토(종합)\n",
      "https://v.daum.net/v/20250408160003397\n",
      "'김건희 통화폰' 알고도 놓친 검찰...김영선 폰 11대 중 4대만 압수\n",
      "https://v.daum.net/v/20250408172052566\n",
      "“일회용기 없는 그 날까지”…청주에 문 연 전국 첫 다회용기 공공세척센터에 가보니\n",
      "https://v.daum.net/v/20250408170147936\n",
      "[르포] 벚꽃만 있다?… 오감이 즐거운 '여의도 봄꽃축제' 개막\n",
      "https://v.daum.net/v/20250408170053889\n",
      "[현장] '관세폭탄' 삼양식품 불닭 등 K푸드 \"개별기업 대응 어려워, 정부협상 기대\"\n",
      "https://v.daum.net/v/20250408165802774\n",
      "산불 복구 현장 가보니…인위적으로 베어내 굽이굽이 ‘민둥산’\n",
      "https://v.daum.net/v/20250408153600346\n",
      "시멘트 질소산화물 95% 저감 첫발은 뗐지만…전국 적용 설치비 1조 업계 부담 커\n",
      "https://v.daum.net/v/20250408150617956\n",
      "23명 목숨 앗아간 화성 씨랜드 참사, 26년 만에 '치유의 공간'으로[르포]\n",
      "https://v.daum.net/v/20250408144709910\n",
      "[르포]역대 최악 국립공원 산불…“진화 헬기 부재, 골든타임 놓쳤다”\n",
      "https://v.daum.net/v/20250408133123497\n",
      "[현장] 화마(火魔)가 삼킨 수 천 년 생명…1대뿐인 헬기는 힘도 못 썼다\n"
     ]
    }
   ],
   "source": [
    "req_parameter = {\n",
    "    'home':'home',\n",
    "    'president':'presidentialelection',\n",
    "    'clim':'climate',\n",
    "    'soci':'society',\n",
    "    'econ':'economy',\n",
    "    'poli':'politics',\n",
    "    'world':'world',\n",
    "    'cult':'culture',\n",
    "    'life':'life',\n",
    "    'tech':'tech',\n",
    "    'people':'people',\n",
    "    'column':'understanding',\n",
    "    'series':'series'\n",
    "}\n",
    "\n",
    "url = 'https://news.daum.net/{econ}'.format(**req_parameter)\n",
    "print(url)\n",
    "\n",
    "req_header = {\n",
    "    'user-agent':'Mozilla/5.0 (Windows NT 10.0; Win64; x64) AppleWebKit/537.36 (KHTML, like Gecko) Chrome/135.0.0.0 Safari/537.36 Edg/135.0.0.0'\n",
    "}\n",
    "\n",
    "res = requests.get(url, headers = req_header)\n",
    "res.encoding = 'utf-8'\n",
    "print(type(res))\n",
    "print(res.status_code)\n",
    "\n",
    "if res.ok:\n",
    "    pass\n",
    "    html = res.text\n",
    "    soup = BeautifulSoup(html, 'html.parser') \n",
    "    # CSS 선택자\n",
    "    a_tag_list = soup.select(\"li a[href*='v.daum.net/v']\")\n",
    "    print(type(a_tag_list), len(a_tag_list))\n",
    "\n",
    "    # <a> 태그 리스트 순회하기    \n",
    "    for a_tag in a_tag_list:\n",
    "        print(a_tag['href'])\n",
    "        print(a_tag.select_one('div.cont_thumb strong.tit_txt').text)\n",
    "else:\n",
    "    # 응답(response)이 Error 이면 status code 출력    \n",
    "    print(f'에러 코드 = {res.status_code}')\n",
    "\n"
   ]
  },
  {
   "cell_type": "code",
   "execution_count": null,
   "id": "caf6574b",
   "metadata": {},
   "outputs": [
    {
     "name": "stdout",
     "output_type": "stream",
     "text": [
      "======> https://news.daum.net/economy 경제 뉴스 <======\n",
      "https://v.daum.net/v/20250408173713085\n",
      "칩 확보서 데이터센터까지···전 산업에 'AI 고속도로' 깔아야\n",
      "https://v.daum.net/v/20250408173626057\n",
      "77년 묵은 정부조직, 데이터 중심 대수술···'AI 부총리' 도입을\n",
      "https://v.daum.net/v/20250408172845794\n",
      "[이슈ON] 마은혁 받고 '윤 절친' 이완규 투입...한덕수는 왜?\n",
      "https://v.daum.net/v/20250408161553109\n",
      "트럼프발 주가폭락에 동아 \"경제적 핵전쟁\" 조선 \"금융위기 후 최악\"\n",
      "https://v.daum.net/v/20250408160526681\n",
      "공황과 격변의 판도라 박스가 열리다\n",
      "https://v.daum.net/v/20250408154329660\n",
      "해외서 발 뺀 이중항체, 韓 기업들이 이끈다\n",
      "https://v.daum.net/v/20250408153003030\n",
      "탄핵 끝났는데 韓경제 ‘봄’은 언제 오나…박근혜 때와 다른 이유\n",
      "https://v.daum.net/v/20250408152923007\n",
      "경상수지 흑자행진에도… 한은 “美 관세에 불확실성 확대”\n",
      "https://v.daum.net/v/20250408144527816\n",
      "국제유가 하락에 흔들리는 정유업계…실적 먹구름 짙어진다\n",
      "\n",
      "======> https://news.daum.net/society 사회 뉴스 <======\n",
      "https://v.daum.net/v/20250408173904152\n",
      "재선 노린 표심잡기용? 전남도교육청, 조직개편안 놓고 노조 '반발'\n",
      "https://v.daum.net/v/20250408173443992\n",
      "\"계엄에 잠 설치다 이젠 주식 불면\"…'관세 전쟁'에 혼란스런 2030 투자족\n",
      "https://v.daum.net/v/20250408172745766\n",
      "강호동 농협중앙회장, 인천에서 ‘도시농협’ 제도 개선 방향 논의\n",
      "https://v.daum.net/v/20250408172027551\n",
      "엇갈린 곽종근과 김현태…‘공익제보자 보호법’ 강화 목소리 커진다\n",
      "https://v.daum.net/v/20250408172004542\n",
      "이진숙 ‘일하지 말란 거냐’ 강변에 법원은 이렇게 대답했다\n",
      "https://v.daum.net/v/20250408170525058\n",
      "진실화해위 노조, 조선일보 '인민군 서울대병원 학살' 보도 명예훼손 고발\n",
      "https://v.daum.net/v/20250408165701732\n",
      "\"창원시 소송 몰아주기 의혹, 행정심판으로 밝히겠다\"\n",
      "https://v.daum.net/v/20250408165107520\n",
      "미얀마 이재민 곁에 선 한국 의사 13인의 땀방울, 지옥 같은 땅에서 연꽃을 피웠다\n",
      "https://v.daum.net/v/20250408164221130\n",
      "“롤러코스터에서 내리고 싶어요”···트럼프 관세정책에 떠는 사람들\n",
      "\n"
     ]
    }
   ],
   "source": [
    "import requests\n",
    "from bs4 import BeautifulSoup\n",
    "section_dict = {\n",
    "    '홈':'home',\n",
    "    '대선':'presidentialelection',\n",
    "    '기후/환경':'climate',\n",
    "    '사회':'society',\n",
    "    '경제':'economy',\n",
    "    '정치':'politics',\n",
    "    '국제':'world',\n",
    "    '문화':'culture',\n",
    "    '생활':'life',\n",
    "    'IT/과학':'tech',\n",
    "    '인물':'people',\n",
    "    '지식/칼럼':'understanding',\n",
    "    '연재재':'series'\n",
    "}\n",
    "\n",
    "def print_news(sid):\n",
    "    section = section_dict[sid]\n",
    "    if section is None:\n",
    "        print('요청하신 key가 없습니다')\n",
    "    else:\n",
    "\n",
    "        url = f'https://news.daum.net/{section}'\n",
    "        print(f\"======> {url} {sid} 뉴스 <======\")\n",
    "\n",
    "        req_header = {\n",
    "            'user-agent':'Mozilla/5.0 (Windows NT 10.0; Win64; x64) AppleWebKit/537.36 (KHTML, like Gecko) Chrome/135.0.0.0 Safari/537.36 Edg/135.0.0.0'\n",
    "        }\n",
    "\n",
    "        res = requests.get(url, headers = req_header)\n",
    "        res.encoding = 'utf-8'\n",
    "\n",
    "        if res.ok:\n",
    "            pass\n",
    "            html = res.text\n",
    "            soup = BeautifulSoup(html, 'html.parser') \n",
    "            # CSS 선택자\n",
    "            a_tag_list = soup.select(\"li a[href*='v.daum.net/v']\" and \"li a[class*='item_newshead']\")\n",
    "\n",
    "            # <a> 태그 리스트 순회하기    \n",
    "            for a_tag in a_tag_list:\n",
    "                print(a_tag['href'])\n",
    "                print(a_tag.select_one('div.cont_thumb strong.tit_txt').text)\n",
    "        else:\n",
    "            # 응답(response)이 Error 이면 status code 출력    \n",
    "            print(f'에러 코드 = {res.status_code}')\n",
    "        print()\n",
    "\n",
    "print_news('경제')\n",
    "print_news('사회')"
   ]
  },
  {
   "cell_type": "code",
   "execution_count": 64,
   "id": "fe9cecc2",
   "metadata": {},
   "outputs": [
    {
     "name": "stdout",
     "output_type": "stream",
     "text": [
      "======> https://news.nate.com/recent?mid=n0100 최신 뉴스 <======\n"
     ]
    },
    {
     "data": {
      "text/html": [
       "<img src=\"https://thumbnews.nateimg.co.kr/news90///news.nateimg.co.kr/orgImg/hn/2025/04/09/20250409503922.jpg\"/>"
      ],
      "text/plain": [
       "<IPython.core.display.Image object>"
      ]
     },
     "metadata": {},
     "output_type": "display_data"
    },
    {
     "name": "stdout",
     "output_type": "stream",
     "text": [
      "//news.nate.com/view/20250409n37264?mid=n0100\n",
      "중국 자신감 드러내지만 경제성장 전망은 먹구름 \n",
      "\n"
     ]
    },
    {
     "data": {
      "text/html": [
       "<img src=\"https://thumbnews.nateimg.co.kr/news90///news.nateimg.co.kr/orgImg/na/2025/04/09/7227145_high.jpg\"/>"
      ],
      "text/plain": [
       "<IPython.core.display.Image object>"
      ]
     },
     "metadata": {},
     "output_type": "display_data"
    },
    {
     "name": "stdout",
     "output_type": "stream",
     "text": [
      "//news.nate.com/view/20250409n37263?mid=n0100\n",
      "선발 역투하는 콜어빈 \n",
      "\n"
     ]
    },
    {
     "data": {
      "text/html": [
       "<img src=\"https://thumbnews.nateimg.co.kr/news90///news.nateimg.co.kr/orgImg/hn/2025/04/09/20250409503888.jpg\"/>"
      ],
      "text/plain": [
       "<IPython.core.display.Image object>"
      ]
     },
     "metadata": {},
     "output_type": "display_data"
    },
    {
     "name": "stdout",
     "output_type": "stream",
     "text": [
      "//news.nate.com/view/20250409n36891?mid=n0100\n",
      "'중도보수' 자처 이재명 세 번째 도전…내란 종식·국가 통합 '이중 과제' \n",
      "\n"
     ]
    },
    {
     "data": {
      "text/html": [
       "<img src=\"https://thumbnews.nateimg.co.kr/news90///news.nateimg.co.kr/orgImg/hn/2025/04/09/20250409503381.jpg\"/>"
      ],
      "text/plain": [
       "<IPython.core.display.Image object>"
      ]
     },
     "metadata": {},
     "output_type": "display_data"
    },
    {
     "name": "stdout",
     "output_type": "stream",
     "text": [
      "//news.nate.com/view/20250409n31931?mid=n0100\n",
      "젊은 피 돋보인 쇼트트랙 1차 선발전…밀라노행 놓고 달아오른 경쟁 구도 \n",
      "\n"
     ]
    },
    {
     "data": {
      "text/html": [
       "<img src=\"https://thumbnews.nateimg.co.kr/news90///news.nateimg.co.kr/orgImg/hn/2025/04/09/20250409503327.jpg\"/>"
      ],
      "text/plain": [
       "<IPython.core.display.Image object>"
      ]
     },
     "metadata": {},
     "output_type": "display_data"
    },
    {
     "name": "stdout",
     "output_type": "stream",
     "text": [
      "//news.nate.com/view/20250409n31439?mid=n0100\n",
      "산불 불쏘시개 된 산림…\"고찰 지키려면 주변 숲부터 벌채해야\" \n",
      "\n"
     ]
    },
    {
     "data": {
      "text/html": [
       "<img src=\"https://thumbnews.nateimg.co.kr/news90///news.nateimg.co.kr/orgImg/hn/2025/04/09/20250409503000.jpg\"/>"
      ],
      "text/plain": [
       "<IPython.core.display.Image object>"
      ]
     },
     "metadata": {},
     "output_type": "display_data"
    },
    {
     "name": "stdout",
     "output_type": "stream",
     "text": [
      "//news.nate.com/view/20250409n29445?mid=n0100\n",
      "한국 여행 어땠어요? [옵스큐라] \n",
      "\n"
     ]
    },
    {
     "data": {
      "text/html": [
       "<img src=\"https://thumbnews.nateimg.co.kr/news90///news.nateimg.co.kr/orgImg/hn/2025/04/09/20250409502356.jpg\"/>"
      ],
      "text/plain": [
       "<IPython.core.display.Image object>"
      ]
     },
     "metadata": {},
     "output_type": "display_data"
    },
    {
     "name": "stdout",
     "output_type": "stream",
     "text": [
      "//news.nate.com/view/20250409n24751?mid=n0100\n",
      "이영애, 32년 만에 연극무대…\"정답 없는 여자 같아요\" \n",
      "\n"
     ]
    },
    {
     "data": {
      "text/html": [
       "<img src=\"https://thumbnews.nateimg.co.kr/news90///news.nateimg.co.kr/orgImg/sc/2025/04/09/2025040901000710700099001.jpg\"/>"
      ],
      "text/plain": [
       "<IPython.core.display.Image object>"
      ]
     },
     "metadata": {},
     "output_type": "display_data"
    },
    {
     "name": "stdout",
     "output_type": "stream",
     "text": [
      "//news.nate.com/view/20250409n37257?mid=n0100\n",
      "[포토] 투런포 나성범, 제대로 노렸다 \n",
      "\n"
     ]
    },
    {
     "data": {
      "text/html": [
       "<img src=\"https://thumbnews.nateimg.co.kr/news90///news.nateimg.co.kr/orgImg/su/2025/04/09/740518_1180771_1440.jpg\"/>"
      ],
      "text/plain": [
       "<IPython.core.display.Image object>"
      ]
     },
     "metadata": {},
     "output_type": "display_data"
    },
    {
     "name": "stdout",
     "output_type": "stream",
     "text": [
      "//news.nate.com/view/20250409n37256?mid=n0100\n",
      "[포토S] 축사하는 주선억 전 부회장 \n",
      "\n"
     ]
    },
    {
     "data": {
      "text/html": [
       "<img src=\"https://thumbnews.nateimg.co.kr/news90///news.nateimg.co.kr/orgImg/ed/2025/04/09/PS25040901459.jpg\"/>"
      ],
      "text/plain": [
       "<IPython.core.display.Image object>"
      ]
     },
     "metadata": {},
     "output_type": "display_data"
    },
    {
     "name": "stdout",
     "output_type": "stream",
     "text": [
      "//news.nate.com/view/20250409n28239?mid=n0100\n",
      "경남銀, 조선·방산·항공산업 재도약 위해 전방위 금융지원 \n",
      "\n"
     ]
    },
    {
     "data": {
      "text/html": [
       "<img src=\"https://thumbnews.nateimg.co.kr/news90///news.nateimg.co.kr/orgImg/sc/2025/04/09/2025040901000710600098991.jpg\"/>"
      ],
      "text/plain": [
       "<IPython.core.display.Image object>"
      ]
     },
     "metadata": {},
     "output_type": "display_data"
    },
    {
     "name": "stdout",
     "output_type": "stream",
     "text": [
      "//news.nate.com/view/20250409n37254?mid=n0100\n",
      "[포토] 투런포 폭발 나성범, 홈런 직감 \n",
      "\n"
     ]
    },
    {
     "data": {
      "text/html": [
       "<img src=\"https://thumbnews.nateimg.co.kr/news90///news.nateimg.co.kr/orgImg/xs/2025/04/09/1744193652870348.jpg\"/>"
      ],
      "text/plain": [
       "<IPython.core.display.Image object>"
      ]
     },
     "metadata": {},
     "output_type": "display_data"
    },
    {
     "name": "stdout",
     "output_type": "stream",
     "text": [
      "//news.nate.com/view/20250409n37253?mid=n0100\n",
      "이주형 '이건 넘어갔어'[포토] \n",
      "\n"
     ]
    },
    {
     "data": {
      "text/html": [
       "<img src=\"https://thumbnews.nateimg.co.kr/news90///news.nateimg.co.kr/orgImg/nn/2025/04/09/202504091914209410_1.jpg\"/>"
      ],
      "text/plain": [
       "<IPython.core.display.Image object>"
      ]
     },
     "metadata": {},
     "output_type": "display_data"
    },
    {
     "name": "stdout",
     "output_type": "stream",
     "text": [
      "//news.nate.com/view/20250409n37252?mid=n0100\n",
      "지드래곤, 눈에 띄는 네일[포토엔HD] \n",
      "\n"
     ]
    },
    {
     "data": {
      "text/html": [
       "<img src=\"https://thumbnews.nateimg.co.kr/news90///news.nateimg.co.kr/orgImg/ed/2025/04/09/PS25040901458.jpg\"/>"
      ],
      "text/plain": [
       "<IPython.core.display.Image object>"
      ]
     },
     "metadata": {},
     "output_type": "display_data"
    },
    {
     "name": "stdout",
     "output_type": "stream",
     "text": [
      "//news.nate.com/view/20250409n13949?mid=n0100\n",
      "맥킨지앤드컴퍼니, 최승혁 시니어파트너 승진 임명 \n",
      "\n"
     ]
    },
    {
     "data": {
      "text/html": [
       "<img src=\"https://thumbnews.nateimg.co.kr/news90///news.nateimg.co.kr/orgImg/kx/2025/04/09/2025040919110714869_1744193467_1744187295.jpg\"/>"
      ],
      "text/plain": [
       "<IPython.core.display.Image object>"
      ]
     },
     "metadata": {},
     "output_type": "display_data"
    },
    {
     "name": "stdout",
     "output_type": "stream",
     "text": [
      "//news.nate.com/view/20250409n37250?mid=n0100\n",
      "안전관리는 시늉만…또 '설마'가 부른 대학 실험실 사고 \n",
      "\n"
     ]
    },
    {
     "data": {
      "text/html": [
       "<img src=\"https://thumbnews.nateimg.co.kr/news90///news.nateimg.co.kr/orgImg/se/2025/04/09/2GRGEHJDF3_1.jpg\"/>"
      ],
      "text/plain": [
       "<IPython.core.display.Image object>"
      ]
     },
     "metadata": {},
     "output_type": "display_data"
    },
    {
     "name": "stdout",
     "output_type": "stream",
     "text": [
      "//news.nate.com/view/20250409n37249?mid=n0100\n",
      "\"70 넘어도 예쁜 미소\" 전국 '건치' 어르신 64명 선발 \n",
      "\n"
     ]
    },
    {
     "data": {
      "text/html": [
       "<img src=\"https://thumbnews.nateimg.co.kr/news90///news.nateimg.co.kr/orgImg/ed/2025/04/09/PS25040901457.jpg\"/>"
      ],
      "text/plain": [
       "<IPython.core.display.Image object>"
      ]
     },
     "metadata": {},
     "output_type": "display_data"
    },
    {
     "name": "stdout",
     "output_type": "stream",
     "text": [
      "//news.nate.com/view/20250409n25233?mid=n0100\n",
      "우리銀, 해병대 2사단 자매결연 40주년 기념 위문 방문 \n",
      "\n"
     ]
    },
    {
     "data": {
      "text/html": [
       "<img src=\"https://thumbnews.nateimg.co.kr/news90///news.nateimg.co.kr/orgImg/pt/2025/04/09/202504091914771125_67f64891a0739.jpg\"/>"
      ],
      "text/plain": [
       "<IPython.core.display.Image object>"
      ]
     },
     "metadata": {},
     "output_type": "display_data"
    },
    {
     "name": "stdout",
     "output_type": "stream",
     "text": [
      "//news.nate.com/view/20250409n37247?mid=n0100\n",
      "[사진]김민혁 타구 놓치는 천재환 \n",
      "\n"
     ]
    },
    {
     "data": {
      "text/html": [
       "<img src=\"https://thumbnews.nateimg.co.kr/news90///news.nateimg.co.kr/orgImg/yt/2025/04/09/PYH2025040920610001300_P2.jpg\"/>"
      ],
      "text/plain": [
       "<IPython.core.display.Image object>"
      ]
     },
     "metadata": {},
     "output_type": "display_data"
    },
    {
     "name": "stdout",
     "output_type": "stream",
     "text": [
      "//news.nate.com/view/20250409n37246?mid=n0100\n",
      "미국 위성이 포착한 경북 산불 피해 지역 \n",
      "\n"
     ]
    },
    {
     "data": {
      "text/html": [
       "<img src=\"https://thumbnews.nateimg.co.kr/news90///news.nateimg.co.kr/orgImg/my/2025/04/09/2025040919140814661_l.jpg\"/>"
      ],
      "text/plain": [
       "<IPython.core.display.Image object>"
      ]
     },
     "metadata": {},
     "output_type": "display_data"
    },
    {
     "name": "stdout",
     "output_type": "stream",
     "text": [
      "//news.nate.com/view/20250409n37245?mid=n0100\n",
      "[MD포토] 이프아이 원화연 '시타를 위해 타석으로' \n",
      "\n",
      "\n",
      "======> https://news.nate.com/section?mid=n0400 사회 뉴스 <======\n",
      "이미지가 없습니다.\n",
      "//news.nate.com/view/20250409n02868?mid=n0400\n",
      "못 키운다며 떠난 주인…굶어 죽게 된 반려견 21마리의 비극 \n",
      "\n",
      "이미지가 없습니다.\n",
      "//news.nate.com/view/20250409n06079?mid=n0400\n",
      "하늘 양 살해교사 명재완, 범행 전 '초등학생 살인' 직접 검색 \n",
      "\n",
      "이미지가 없습니다.\n",
      "//news.nate.com/view/20250409n30479?mid=n0400\n",
      "[단독]강의실로 돌아온 서울의대생…본과 2·3학년 첫 시험 전원 응시 \n",
      "\n",
      "이미지가 없습니다.\n",
      "//news.nate.com/view/20250409n31444?mid=n0400\n",
      "유골 뿌리는 '산분장' 합법화됐지만…뿌릴 장지가 없다 \n",
      "\n",
      "이미지가 없습니다.\n",
      "//news.nate.com/view/20250409n26068?mid=n0400\n",
      "신생아에 \"낙상 마렵다\"…피해 父 \"간호사 사과 못받아, 자다가도 깬다\" 고통 호소 \n",
      "\n",
      "이미지가 없습니다.\n",
      "//news.nate.com/view/20250409n30609?mid=n0400\n",
      "[단독] \"너희 정말 학생 맞아?\"…수상한 중국인 고교생들, 軍시설 밀집 지역 행적 확인 \n",
      "\n",
      "이미지가 없습니다.\n",
      "//news.nate.com/view/20250409n27461?mid=n0400\n",
      "\"갈치·김치찌개도 1인메뉴 개발\"…제주지사, 바가지요금 논란에 대책 발표 \n",
      "\n",
      "이미지가 없습니다.\n",
      "//news.nate.com/view/20250409n27109?mid=n0400\n",
      "양초 위장 '좀비 마약' 메페드론 적발…\"흥분하면 물어뜯는 이상행동\" \n",
      "\n",
      "이미지가 없습니다.\n",
      "//news.nate.com/view/20250409n17147?mid=n0400\n",
      "'제주항공 참사' 무안국제공항 폐쇄 3개월…재개항은 언제되나 \n",
      "\n",
      "이미지가 없습니다.\n",
      "//news.nate.com/view/20250409n19221?mid=n0400\n",
      "여성단체 \"장제원 수사결과 발표해야…죽음으로 묻혀선 안돼\" \n",
      "\n",
      "이미지가 없습니다.\n",
      "//news.nate.com/view/20250409n10994?mid=n0400\n",
      "[단독]어린이보호구역서 묻지마 폭행…10대 불구속 송치 \n",
      "\n",
      "이미지가 없습니다.\n",
      "//news.nate.com/view/20250409n16258?mid=n0400\n",
      "[단독] 서울시 \"명일동 싱크홀 원인은 '터널공사'\" \n",
      "\n",
      "이미지가 없습니다.\n",
      "//news.nate.com/view/20250409n14902?mid=n0400\n",
      "마용주 신임 대법관 \"헌법 수호·사법부 독립 지키겠다\"…공식 취임 \n",
      "\n",
      "이미지가 없습니다.\n",
      "//news.nate.com/view/20250409n13353?mid=n0400\n",
      "반복된 교제 폭력에…만취 남친 잠들자 이불에 불붙여 살해한 40대 \n",
      "\n",
      "이미지가 없습니다.\n",
      "//news.nate.com/view/20250409n09198?mid=n0400\n",
      "아파트 외벽 10m 타고 前여친 집 침입한 20대…\"문 안열어줘서\" \n",
      "\n",
      "\n"
     ]
    }
   ],
   "source": [
    "import requests\n",
    "from bs4 import BeautifulSoup\n",
    "import os\n",
    "from urllib.parse import urljoin\n",
    "from IPython.display import Image, display\n",
    "section_dict = {\n",
    "    '최신':'0100',\n",
    "    '정치':'0200',\n",
    "    '경제':'0300',\n",
    "    '사회':'0400',\n",
    "    '세계':'0500',\n",
    "    'IT/과학':'0600'\n",
    "}\n",
    "imgdir_name = 'img'\n",
    "os.makedirs(imgdir_name, exist_ok=True)\n",
    "\n",
    "def print_news(sid):\n",
    "    section = section_dict[sid]\n",
    "    if section is None:\n",
    "        print('요청하신 key가 없습니다')\n",
    "    else:\n",
    "        if sid =='최신':\n",
    "            url = f'https://news.nate.com/recent?mid=n{section}'\n",
    "        else:\n",
    "            url = f'https://news.nate.com/section?mid=n{section}'\n",
    "        print(f\"======> {url} {sid} 뉴스 <======\")\n",
    "\n",
    "        req_header = {\n",
    "            'user-agent':'Mozilla/5.0 (Windows NT 10.0; Win64; x64) AppleWebKit/537.36 (KHTML, like Gecko) Chrome/135.0.0.0 Safari/537.36'\n",
    "        }\n",
    "        url_header = {'referer': url}\n",
    "\n",
    "        res = requests.get(url, headers = req_header)\n",
    "        # res.encoding = 'utf-8'\n",
    "\n",
    "        if res.ok:\n",
    "            html = res.text\n",
    "            soup = BeautifulSoup(html, 'html.parser') \n",
    "            # CSS 선택자\n",
    "            \n",
    "            a_tag_list = soup.select(\"div a[href*='//news.nate.com/view/']\" and \"div a[class ='lt1']\")\n",
    "            # <a> 태그 리스트 순회하기    \n",
    "            for a_tag in a_tag_list:\n",
    "                if len(a_tag.select(\"span.ib em.mediatype img[src*='//thumbnews']\")) == 0:\n",
    "                    print(\"이미지가 없습니다.\")\n",
    "                else:\n",
    "                    img_url = \"https:\" + a_tag.select(\"span.ib em.mediatype img[src*='//thumbnews']\")[0]['src']\n",
    "                    img = Image(url= img_url)\n",
    "                    display(img)\n",
    "                    img_res = requests.get(img_url, headers=url_header)\n",
    "                    if img_res.ok:\n",
    "                        img_data = img_res.content\n",
    "                        file_path = os.path.join(imgdir_name, os.path.basename(img_url))\n",
    "                        with open(file_path, 'wb') as file:\n",
    "                            file.write(img_data)\n",
    "                    else:\n",
    "                        print(f'Error Code = {res.status_code} for {img_url}')\n",
    "                print(a_tag['href'])\n",
    "                print(a_tag.select_one('span.tb h2.tit').text, '\\n')\n",
    "        else:\n",
    "            # 응답(response)이 Error 이면 status code 출력    \n",
    "            print(f'에러 코드 = {res.status_code}')\n",
    "        print()\n",
    "\n",
    "print_news('최신')\n",
    "print_news('사회')"
   ]
  }
 ],
 "metadata": {
  "kernelspec": {
   "display_name": "base",
   "language": "python",
   "name": "python3"
  },
  "language_info": {
   "codemirror_mode": {
    "name": "ipython",
    "version": 3
   },
   "file_extension": ".py",
   "mimetype": "text/x-python",
   "name": "python",
   "nbconvert_exporter": "python",
   "pygments_lexer": "ipython3",
   "version": "3.12.7"
  }
 },
 "nbformat": 4,
 "nbformat_minor": 5
}

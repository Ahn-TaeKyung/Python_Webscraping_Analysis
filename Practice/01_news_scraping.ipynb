{
 "cells": [
  {
   "cell_type": "code",
   "execution_count": 2,
   "id": "2926d63a",
   "metadata": {},
   "outputs": [],
   "source": [
    "import requests\n",
    "import bs4\n",
    "\n",
    "from bs4 import BeautifulSoup"
   ]
  },
  {
   "cell_type": "code",
   "execution_count": null,
   "id": "d2a81ebf",
   "metadata": {},
   "outputs": [
    {
     "name": "stdout",
     "output_type": "stream",
     "text": [
      "https://news.daum.net/economy\n",
      "<class 'requests.models.Response'>\n",
      "200\n",
      "151\n"
     ]
    }
   ],
   "source": [
    "req_parameter = {\n",
    "    'home':'home',\n",
    "    'president':'presidentialelection',\n",
    "    'clim':'climate',\n",
    "    'soci':'society',\n",
    "    'econ':'economy',\n",
    "    'poli':'politics',\n",
    "    'world':'world',\n",
    "    'cult':'culture',\n",
    "    'life':'life',\n",
    "    'tech':'tech',\n",
    "    'people':'people',\n",
    "    'column':'understanding',\n",
    "    'series':'series'\n",
    "}\n",
    "\n",
    "url = 'https://news.daum.net/{econ}'.format(**req_parameter)\n",
    "print(url)\n",
    "\n",
    "req_header = {\n",
    "    'user-agent':'Mozilla/5.0 (Windows NT 10.0; Win64; x64) AppleWebKit/537.36 (KHTML, like Gecko) Chrome/135.0.0.0 Safari/537.36 Edg/135.0.0.0'\n",
    "}\n",
    "\n",
    "res = requests.get(url, headers = req_header)\n",
    "print(type(res))\n",
    "print(res.status_code)\n",
    "\n",
    "# 응답(response)이 OK 이면\n",
    "if res.ok:\n",
    "    pass\n",
    "    # 응답 (response)에서 text 추출  - source 보기기\n",
    "    html = res.text\n",
    "    # print(html)\n",
    "    # BeautifulSoup 객체 생성  \n",
    "    soup = BeautifulSoup(html, 'html.parser') \n",
    "    print(soup)\n",
    "    # CSS 선택자\n",
    "    \n",
    "    # print(soup.select(\"div.sa_text a[href*='mnews/article']\"))\n",
    "\n",
    "    # <a> 태그 리스트 순회하기    \n",
    "else:\n",
    "    # 응답(response)이 Error 이면 status code 출력    \n",
    "    print(f'에러 코드 = {res.status_code}')\n"
   ]
  }
 ],
 "metadata": {
  "kernelspec": {
   "display_name": "base",
   "language": "python",
   "name": "python3"
  },
  "language_info": {
   "codemirror_mode": {
    "name": "ipython",
    "version": 3
   },
   "file_extension": ".py",
   "mimetype": "text/x-python",
   "name": "python",
   "nbconvert_exporter": "python",
   "pygments_lexer": "ipython3",
   "version": "3.12.7"
  }
 },
 "nbformat": 4,
 "nbformat_minor": 5
}

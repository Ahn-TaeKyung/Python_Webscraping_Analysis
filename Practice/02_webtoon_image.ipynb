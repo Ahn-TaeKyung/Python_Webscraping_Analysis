{
 "cells": [
  {
   "cell_type": "code",
   "execution_count": 3,
   "id": "e58b8114",
   "metadata": {},
   "outputs": [],
   "source": [
    "def download_image(title,no,url):\n",
    "    import requests\n",
    "    from bs4 import BeautifulSoup\n",
    "    import os\n",
    "    \n",
    "    req_header = {\n",
    "        'referer': url\n",
    "    }\n",
    "    \n",
    "    res = requests.get(url)\n",
    "    if res.ok:\n",
    "        soup = BeautifulSoup(res.text, 'html.parser')\n",
    "        \n",
    "        imgurl_list = []\n",
    "        for img_tag in soup.select(\"img[src*='IMAG01']\"):\n",
    "            imgurl_list.append(img_tag['src'])\n",
    "            #print(img_tag)\n",
    "                \n",
    "        #image를 저장할 디렉토리 생성\n",
    "        \n",
    "        #dir_name = 'img/' + title\n",
    "        dir_name = os.path.join(f'img/{no}',title)\n",
    "        if not os.path.isdir(dir_name):\n",
    "            os.makedirs(dir_name)\n",
    "        \n",
    "        for idx,img_url in enumerate(imgurl_list,1):\n",
    "            res = requests.get(img_url,headers=req_header)\n",
    "            #print(res.status_code)\n",
    "            if res.ok:\n",
    "                img_data = res.content\n",
    "                #print(len(img_data))\n",
    "                file_name = os.path.basename(img_url)\n",
    "                #print(file_name)\n",
    "                file_name = dir_name + '/' + file_name\n",
    "                with open(file_name,'wb') as file:\n",
    "                    file.write(img_data)\n",
    "                \n",
    "                \n",
    "download_image('낢이사는이야기',48,'https://comic.naver.com/webtoon/detail?titleId=833255&no=49&week=tue')"
   ]
  }
 ],
 "metadata": {
  "kernelspec": {
   "display_name": "base",
   "language": "python",
   "name": "python3"
  },
  "language_info": {
   "codemirror_mode": {
    "name": "ipython",
    "version": 3
   },
   "file_extension": ".py",
   "mimetype": "text/x-python",
   "name": "python",
   "nbconvert_exporter": "python",
   "pygments_lexer": "ipython3",
   "version": "3.12.7"
  }
 },
 "nbformat": 4,
 "nbformat_minor": 5
}

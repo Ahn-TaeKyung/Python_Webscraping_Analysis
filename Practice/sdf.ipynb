{
 "cells": [
  {
   "cell_type": "code",
   "execution_count": 6,
   "id": "4334cce3",
   "metadata": {},
   "outputs": [
    {
     "name": "stdout",
     "output_type": "stream",
     "text": [
      "Name: geopandas\n",
      "Version: 1.0.1\n",
      "Summary: Geographic pandas extensions\n",
      "Home-page: \n",
      "Author: \n",
      "Author-email: Kelsey Jordahl <kjordahl@alum.mit.edu>\n",
      "License: BSD 3-Clause\n",
      "Location: c:\\Users\\user\\anaconda3\\Lib\\site-packages\n",
      "Requires: numpy, packaging, pandas, pyogrio, pyproj, shapely\n",
      "Required-by: \n",
      "Note: you may need to restart the kernel to use updated packages.\n"
     ]
    }
   ],
   "source": [
    "%pip show geopandas"
   ]
  },
  {
   "cell_type": "code",
   "execution_count": null,
   "id": "12594573",
   "metadata": {},
   "outputs": [],
   "source": []
  },
  {
   "cell_type": "code",
   "execution_count": 7,
   "id": "e6adb144",
   "metadata": {},
   "outputs": [
    {
     "ename": "NameError",
     "evalue": "name 'df' is not defined",
     "output_type": "error",
     "traceback": [
      "\u001b[1;31m---------------------------------------------------------------------------\u001b[0m",
      "\u001b[1;31mNameError\u001b[0m                                 Traceback (most recent call last)",
      "Cell \u001b[1;32mIn[7], line 21\u001b[0m\n\u001b[0;32m     18\u001b[0m     \u001b[38;5;28;01mreturn\u001b[39;00m region_map\u001b[38;5;241m.\u001b[39mget(parts[\u001b[38;5;241m0\u001b[39m], \u001b[38;5;28;01mNone\u001b[39;00m)\n\u001b[0;32m     20\u001b[0m \u001b[38;5;66;03m# 2. 필터된 데이터프레임에 광역시도 열 추가\u001b[39;00m\n\u001b[1;32m---> 21\u001b[0m filtered_df \u001b[38;5;241m=\u001b[39m df[df[\u001b[38;5;124m'\u001b[39m\u001b[38;5;124m지역\u001b[39m\u001b[38;5;124m'\u001b[39m] \u001b[38;5;241m!=\u001b[39m \u001b[38;5;124m'\u001b[39m\u001b[38;5;124m서울전체\u001b[39m\u001b[38;5;124m'\u001b[39m] \n\u001b[0;32m     22\u001b[0m filtered_df[\u001b[38;5;124m'\u001b[39m\u001b[38;5;124m광역시도\u001b[39m\u001b[38;5;124m'\u001b[39m] \u001b[38;5;241m=\u001b[39m filtered_df[\u001b[38;5;124m'\u001b[39m\u001b[38;5;124m지역\u001b[39m\u001b[38;5;124m'\u001b[39m]\u001b[38;5;241m.\u001b[39mapply(convert_region)\n\u001b[0;32m     24\u001b[0m \u001b[38;5;66;03m# 3. 지역별 공고 수 집계\u001b[39;00m\n",
      "\u001b[1;31mNameError\u001b[0m: name 'df' is not defined"
     ]
    }
   ],
   "source": [
    "import geopandas as gpd\n",
    "import pandas as pd\n",
    "import matplotlib.pyplot as plt\n",
    "\n",
    "# 1. 지역명을 광역시/도로 변환하는 함수\n",
    "def convert_region(name):\n",
    "    if name == '전국':\n",
    "        return None\n",
    "    parts = name.split()\n",
    "    region_map = {\n",
    "        '서울': '서울특별시', '부산': '부산광역시', '대구': '대구광역시',\n",
    "        '인천': '인천광역시', '광주': '광주광역시', '대전': '대전광역시',\n",
    "        '울산': '울산광역시', '세종': '세종특별자치시', '경기': '경기도',\n",
    "        '강원': '강원도', '충북': '충청북도', '충남': '충청남도',\n",
    "        '전북': '전라북도', '전남': '전라남도', '경북': '경상북도',\n",
    "        '경남': '경상남도', '제주': '제주특별자치도'\n",
    "    }\n",
    "    return region_map.get(parts[0], None)\n",
    "\n",
    "# 2. 필터된 데이터프레임에 광역시도 열 추가\n",
    "filtered_df = df[df['지역'] != '서울전체'] \n",
    "filtered_df['광역시도'] = filtered_df['지역'].apply(convert_region)\n",
    "\n",
    "# 3. 지역별 공고 수 집계\n",
    "region_counts = filtered_df['광역시도'].value_counts().reset_index()\n",
    "region_counts.columns = ['지역', '공고수']\n",
    "\n",
    "# 4. GeoJSON 파일 불러오기\n",
    "gdf = gpd.read_file('../data/skorea_provinces_geo_simple.json')\n",
    "\n",
    "# 5. 병합 (left join으로 모든 지역 유지)\n",
    "merged = gdf.merge(region_counts, left_on='name', right_on='지역', how='left')\n",
    "merged['공고수'] = merged['공고수'].fillna(0).astype(int)\n",
    "\n",
    "# 6. 일부 지역의 라벨이 겹치지 않도록 위치 보정값 정의\n",
    "label_offsets = {\n",
    "    '서울특별시': (0, 0.1),\n",
    "    '세종특별자치시': (0, -0.2),\n",
    "    '인천광역시': (-0.3, 0.1),\n",
    "    '대전광역시': (0.1, -0.2),\n",
    "    '광주광역시': (-0.2, -0.2),\n",
    "    '대구광역시': (0.2, -0.1),\n",
    "    '부산광역시': (0.3, -0.3),\n",
    "    '울산광역시': (0.2, -0.2),\n",
    "}\n",
    "\n",
    "# 7. 시각화\n",
    "fig, ax = plt.subplots(1, 1, figsize=(10, 12))\n",
    "merged.plot(\n",
    "    column='공고수',\n",
    "    cmap='Blues',\n",
    "    linewidth=0.8,\n",
    "    ax=ax,\n",
    "    edgecolor='0.8',\n",
    "    legend=True,\n",
    "    legend_kwds={'shrink': 0.6, 'label': '공고 수'}\n",
    ")\n",
    "\n",
    "# 8. 지도 위에 텍스트 표시 (지역명 + 공고수)\n",
    "for idx, row in merged.iterrows():\n",
    "    point = row.geometry.representative_point()\n",
    "    dx, dy = label_offsets.get(row['name'], (0, 0))\n",
    "    plt.annotate(\n",
    "        text=f\"{row['name']}\\n{row['공고수']}건\",\n",
    "        xy=(point.x + dx, point.y + dy),\n",
    "        ha='center',\n",
    "        fontsize=8,\n",
    "        color='black'\n",
    "    )\n",
    "\n",
    "plt.title('지역별 채용공고 수 (광역시도 기준)', fontsize=14)\n",
    "plt.axis('off')\n",
    "plt.tight_layout()\n",
    "plt.show()\n"
   ]
  }
 ],
 "metadata": {
  "kernelspec": {
   "display_name": "base",
   "language": "python",
   "name": "python3"
  },
  "language_info": {
   "codemirror_mode": {
    "name": "ipython",
    "version": 3
   },
   "file_extension": ".py",
   "mimetype": "text/x-python",
   "name": "python",
   "nbconvert_exporter": "python",
   "pygments_lexer": "ipython3",
   "version": "3.12.7"
  }
 },
 "nbformat": 4,
 "nbformat_minor": 5
}
